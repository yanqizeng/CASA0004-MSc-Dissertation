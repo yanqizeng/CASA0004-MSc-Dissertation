{
 "cells": [
  {
   "cell_type": "code",
   "execution_count": null,
   "id": "960286d5-a433-402e-b8b4-828f4b5193e3",
   "metadata": {},
   "outputs": [],
   "source": [
    "# Research Questions: Did the COVID-19 permanently affect the demand for small homes?"
   ]
  },
  {
   "cell_type": "code",
   "execution_count": null,
   "id": "f108858f-4696-4e84-81b5-67ed8ef3b272",
   "metadata": {},
   "outputs": [],
   "source": [
    "### While the NDSS provides a reasonable standard for the study of housing, houses are classified according to the number of bedrooms, number of storeys and total floor area. However, House Price per Square Metre in England and Wales exclude the number of bedrooms and the number of storeys. To solve this lack of housing information, reference was made to previous studies and additional information was added. "
   ]
  },
  {
   "cell_type": "code",
   "execution_count": null,
   "id": "eaa0ee13-e0b2-45cc-ba11-cbb31fd85e6e",
   "metadata": {},
   "outputs": [],
   "source": []
  },
  {
   "cell_type": "code",
   "execution_count": 1,
   "id": "75d288b1-2462-4da3-99ca-713bcdc295c3",
   "metadata": {},
   "outputs": [],
   "source": [
    "import pandas as pd\n",
    "import glob"
   ]
  },
  {
   "cell_type": "code",
   "execution_count": null,
   "id": "83cf64fe-c96d-4c78-8dc7-29d08ef6ce43",
   "metadata": {},
   "outputs": [],
   "source": [
    "### Combined House Prices per Square Meter in England and Wales 2022 data ###"
   ]
  },
  {
   "cell_type": "code",
   "execution_count": null,
   "id": "8c1146db-3be0-42ce-bf81-0488341af3fa",
   "metadata": {},
   "outputs": [],
   "source": [
    "# Path to the folder containing the CSV files\n",
    "path = './Data housing all' \n",
    "\n",
    "# Using glob to match all .csv files in the folder\n",
    "all_files = glob.glob(path + \"/*.csv\")\n",
    "\n",
    "# Creating an empty list to hold the DataFrames\n",
    "li = []\n",
    "\n",
    "# Reading each CSV file and appending it to the list\n",
    "for filename in all_files:\n",
    "    df = pd.read_csv(filename, index_col=None, header=0)\n",
    "    li.append(df)\n",
    "\n",
    "# Concatenating all the DataFrames in the list\n",
    "frame = pd.concat(li, axis=0, ignore_index=True)\n",
    "\n",
    "# Saving the concatenated DataFrame to a new CSV file\n",
    "frame.to_csv(\"SH_1_combined_three periods.csv\", index=False)"
   ]
  },
  {
   "cell_type": "code",
   "execution_count": null,
   "id": "d3cc39b2-fce3-470e-952f-4fcd63393560",
   "metadata": {},
   "outputs": [],
   "source": []
  },
  {
   "cell_type": "code",
   "execution_count": 7,
   "id": "84f04bf7-670c-48dc-bc98-50b44e23992b",
   "metadata": {},
   "outputs": [],
   "source": [
    "### Cleaning Data ###"
   ]
  },
  {
   "cell_type": "code",
   "execution_count": 33,
   "id": "cf3b19c6-fd06-42d1-87ac-0b269a2f6320",
   "metadata": {},
   "outputs": [
    {
     "name": "stdout",
     "output_type": "stream",
     "text": [
      "priceper                          676\n",
      "year                                0\n",
      "dateoftransfer                      0\n",
      "propertytype                        0\n",
      "duration                            0\n",
      "price                               0\n",
      "postcode                            0\n",
      "lad21cd                             0\n",
      "transactionid                       0\n",
      "id                                  0\n",
      "tfarea                              0\n",
      "numberrooms                    419102\n",
      "classt                              0\n",
      "CURRENT_ENERGY_EFFICIENCY           0\n",
      "POTENTIAL_ENERGY_EFFICIENCY         0\n",
      "CONSTRUCTION_AGE_BAND           38495\n",
      "dtype: int64\n"
     ]
    }
   ],
   "source": [
    "home2022 = pd.read_csv(\"./SH_1_combined_three periods.csv\")\n",
    "\n",
    "# Display the count of missing values in each column\n",
    "missing_values_count = home2022.isnull().sum()\n",
    "print(missing_values_count)\n"
   ]
  },
  {
   "cell_type": "code",
   "execution_count": 38,
   "id": "7409d8d5-b84c-4abb-9fc9-3b0777b50db1",
   "metadata": {},
   "outputs": [
    {
     "name": "stdout",
     "output_type": "stream",
     "text": [
      "priceper                       0\n",
      "year                           0\n",
      "dateoftransfer                 0\n",
      "propertytype                   0\n",
      "duration                       0\n",
      "price                          0\n",
      "postcode                       0\n",
      "lad21cd                        0\n",
      "transactionid                  0\n",
      "id                             0\n",
      "tfarea                         0\n",
      "numberrooms                    0\n",
      "classt                         0\n",
      "CURRENT_ENERGY_EFFICIENCY      0\n",
      "POTENTIAL_ENERGY_EFFICIENCY    0\n",
      "CONSTRUCTION_AGE_BAND          0\n",
      "dtype: int64\n"
     ]
    }
   ],
   "source": [
    "# Drop rows with any missing values\n",
    "home2022_cleaned = home2022.dropna()\n",
    "\n",
    "# Check After Cleaning\n",
    "remaining_missing_values = home2022_cleaned.isnull().sum()\n",
    "print(remaining_missing_values)\n",
    "\n",
    "# Export data as CSV file\n",
    "# home2022_cleaned.to_csv('./SH_2_combined_three periods_cleaned.csv', index=False)"
   ]
  },
  {
   "cell_type": "code",
   "execution_count": null,
   "id": "faf6f9e6-e961-48d2-aee8-f7deebba1e74",
   "metadata": {},
   "outputs": [],
   "source": []
  },
  {
   "cell_type": "code",
   "execution_count": null,
   "id": "093bc18a-7793-4034-b58f-6e029d08a9a4",
   "metadata": {},
   "outputs": [],
   "source": [
    "###  Additional information on the house: number of storeys  ###"
   ]
  },
  {
   "cell_type": "code",
   "execution_count": 28,
   "id": "14f3655b-6636-4ad5-a421-3fd3a61c7762",
   "metadata": {},
   "outputs": [
    {
     "name": "stdout",
     "output_type": "stream",
     "text": [
      "            priceper  year dateoftransfer propertytype duration    price  \\\n",
      "0        3842.696629  2020     2020-01-23            T        F   342000   \n",
      "1        4550.561798  2022     2022-01-05            T        F   405000   \n",
      "2        4244.031830  2021     2021-11-05            T        F   320000   \n",
      "3        4258.064516  2019     2019-12-20            D        F   264000   \n",
      "4        4602.272727  2021     2021-06-29            D        F   405000   \n",
      "...              ...   ...            ...          ...      ...      ...   \n",
      "2599266  3693.181818  2019     2019-02-08            D        F   975000   \n",
      "2599267  4328.358209  2021     2021-09-09            D        F  1450000   \n",
      "2599268  4757.575758  2020     2020-03-11            S        F   785000   \n",
      "2599269  6400.000000  2021     2021-10-15            D        F   960000   \n",
      "2599270  4610.389610  2019     2019-08-08            D        F   710000   \n",
      "\n",
      "         postcode    lad21cd                           transactionid  \\\n",
      "0        BN14 9JU  E07000223  {9DBAD222-71FF-6EB3-E053-6B04A8C0F257}   \n",
      "1        BN14 9JU  E07000223  {DBA933FA-40BA-669D-E053-6B04A8C0AD56}   \n",
      "2        BN14 9JU  E07000223  {D707E536-4437-0AD9-E053-6B04A8C067CC}   \n",
      "3        BN15 0AA  E07000223  {9DBAD222-74CA-6EB3-E053-6B04A8C0F257}   \n",
      "4        BN15 0AA  E07000223  {E2D14906-4D35-4C2D-E053-6B04A8C0422B}   \n",
      "...           ...        ...                                     ...   \n",
      "2599266   SM2 7NF  E07000208  {85866A65-3CA5-143F-E053-6B04A8C06A15}   \n",
      "2599267   SM2 7NG  E07000208  {D707E535-FDC3-0AD9-E053-6B04A8C067CC}   \n",
      "2599268   SM2 7NG  E07000208  {AE4D86D4-659E-4619-E053-6C04A8C03CD0}   \n",
      "2599269   SM2 7NQ  E07000208  {D93B27B1-6111-3100-E053-6C04A8C08887}   \n",
      "2599270   SM2 7NQ  E07000208  {919FEC05-BFCA-9A90-E053-6C04A8C0A300}   \n",
      "\n",
      "               id  tfarea  numberrooms  classt  CURRENT_ENERGY_EFFICIENCY  \\\n",
      "0        12732792    89.0          4.0      12                         73   \n",
      "1        12732792    89.0          4.0      12                         73   \n",
      "2        12730526    75.4          3.0      11                         71   \n",
      "3        12712894    62.0          3.0      11                         55   \n",
      "4        12732089    88.0          5.0      11                         58   \n",
      "...           ...     ...          ...     ...                        ...   \n",
      "2599266  12108411   264.0          9.0      12                         68   \n",
      "2599267  12112422   335.0          8.0      11                         63   \n",
      "2599268  12103343   165.0          7.0      12                         62   \n",
      "2599269  12116046   150.0          7.0      11                         76   \n",
      "2599270  12100495   154.0          5.0      11                         51   \n",
      "\n",
      "         POTENTIAL_ENERGY_EFFICIENCY         CONSTRUCTION_AGE_BAND  storey  \n",
      "0                                 85  England and Wales: 1930-1949       2  \n",
      "1                                 85  England and Wales: 1930-1949       2  \n",
      "2                                 76  England and Wales: 1930-1949       2  \n",
      "3                                 83  England and Wales: 1930-1949       2  \n",
      "4                                 80  England and Wales: 1930-1949       2  \n",
      "...                              ...                           ...     ...  \n",
      "2599266                           74  England and Wales: 1950-1966       2  \n",
      "2599267                           84  England and Wales: 1930-1949       2  \n",
      "2599268                           78  England and Wales: 1930-1949       2  \n",
      "2599269                           88  England and Wales: 1900-1929       2  \n",
      "2599270                           82  England and Wales: 1930-1949       2  \n",
      "\n",
      "[2175798 rows x 17 columns]\n"
     ]
    },
    {
     "name": "stderr",
     "output_type": "stream",
     "text": [
      "/tmp/ipykernel_12573/3419952148.py:3: SettingWithCopyWarning: \n",
      "A value is trying to be set on a copy of a slice from a DataFrame.\n",
      "Try using .loc[row_indexer,col_indexer] = value instead\n",
      "\n",
      "See the caveats in the documentation: https://pandas.pydata.org/pandas-docs/stable/user_guide/indexing.html#returning-a-view-versus-a-copy\n",
      "  home2022_cleaned.loc[:, 'storey'] = home2022_cleaned['propertytype'].map(property_type_mapping)\n"
     ]
    }
   ],
   "source": [
    "\n",
    "# Add storey numbers for each type of house\n",
    "property_type_mapping = {'T': 2, 'D': 2, 'S': 2, 'F': 1}\n",
    "home2022_cleaned.loc[:, 'storey'] = home2022_cleaned['propertytype'].map(property_type_mapping)\n",
    "\n",
    "# Display the modified DataFrame\n",
    "print(home2022_cleaned)\n"
   ]
  },
  {
   "cell_type": "code",
   "execution_count": null,
   "id": "08ff4a58-8387-4080-8f4b-1bcaff0ee678",
   "metadata": {},
   "outputs": [],
   "source": []
  },
  {
   "cell_type": "code",
   "execution_count": null,
   "id": "2744c349-ce35-4ca1-bf59-a51dc6daa50a",
   "metadata": {},
   "outputs": [],
   "source": [
    "### After adding the key information, the subtypes of detached, semi-detached, terraced and flat were classified according to the NDSS: \"Small Home\" and \" Comfortable Home\""
   ]
  },
  {
   "cell_type": "code",
   "execution_count": null,
   "id": "0904fb5c-b2be-4506-a0b3-73a34dd8bfa8",
   "metadata": {},
   "outputs": [],
   "source": [
    "###  Screening out small homes  ###"
   ]
  },
  {
   "cell_type": "code",
   "execution_count": 72,
   "id": "cbdafb90-1e74-4e32-9003-fcb67335a31c",
   "metadata": {},
   "outputs": [],
   "source": [
    "# Small Homes\n",
    "\n",
    "# Filter the data based on criteria: Detached\n",
    "smallhomes_detached = home2022_cleaned[(home2022_cleaned['propertytype'] == 'D') & \n",
    "                     (home2022_cleaned['numberrooms'] >= 4) & \n",
    "                     (home2022_cleaned['tfarea'] >= 97) & (home2022_cleaned['tfarea'] <= 124)]\n",
    "\n",
    "\n",
    "# Filter the data based on criteria: Semi-Detached\n",
    "smallhomes_semidetached = home2022_cleaned[(home2022_cleaned['propertytype'] == 'S') & \n",
    "                     (home2022_cleaned['numberrooms'] >= 3) & \n",
    "                     (home2022_cleaned['tfarea'] >= 84) & (home2022_cleaned['tfarea'] <= 102)]\n",
    "\n",
    "\n",
    "# Filter the data based on criteria: Terraced\n",
    "smallhomes_terraced = home2022_cleaned[(home2022_cleaned['propertytype'] == 'T') & \n",
    "                     (home2022_cleaned['numberrooms'] >= 2) & \n",
    "                     (home2022_cleaned['tfarea'] >= 70) & (home2022_cleaned['tfarea'] <= 79)]\n",
    "\n",
    "\n",
    "# Filter the data based on criteria: Flat or Maisonettes\n",
    "# Define the conditions for filtering\n",
    "condition_1 = (home2022_cleaned['propertytype'] == 'F') & (home2022_cleaned['tfarea'] >= 39) & (home2022_cleaned['tfarea'] <= 50) & (home2022_cleaned['numberrooms'] >= 1)\n",
    "condition_2 = (home2022_cleaned['propertytype'] == 'F') & (home2022_cleaned['tfarea'] >= 61) & (home2022_cleaned['tfarea'] <= 70) & (home2022_cleaned['numberrooms'] >= 2)\n",
    "\n",
    "# Apply the conditions and concatenate the results\n",
    "smallhomes_flat = pd.concat([home2022_cleaned[condition_1], home2022_cleaned[condition_2]])\n",
    "\n",
    "\n",
    "\n",
    "# unified filtered data\n",
    "smallhomes_all = pd.concat([smallhomes_detached, smallhomes_semidetached, smallhomes_terraced, smallhomes_flat])\n",
    "\n",
    "# print(smallhomes_all)\n",
    "\n",
    "# export data\n",
    "# smallhomes_all.to_csv('./SH_3_Small Homes_all_housing type.csv', index=False)\n"
   ]
  },
  {
   "cell_type": "code",
   "execution_count": null,
   "id": "099d7280-93e3-4832-a728-b89413e9d3a4",
   "metadata": {},
   "outputs": [],
   "source": []
  },
  {
   "cell_type": "code",
   "execution_count": null,
   "id": "c7fc9d01-1642-4ed0-92be-7a0cebc0a900",
   "metadata": {},
   "outputs": [],
   "source": [
    "###  Screening out reasonable and comfortable homes  ###"
   ]
  },
  {
   "cell_type": "code",
   "execution_count": 83,
   "id": "d6de2ba2-5715-4e57-bce7-d7d87e1cfb26",
   "metadata": {},
   "outputs": [],
   "source": [
    "# Comfortable Homes\n",
    "\n",
    "# Filter the data based on criteria   \n",
    "# Detached\n",
    "comfortablehomes_detached = home2022_cleaned[(home2022_cleaned['propertytype'] == 'D') & \n",
    "                     (home2022_cleaned['numberrooms'] >= 4) & \n",
    "                     (home2022_cleaned['tfarea'] > 124)]\n",
    "\n",
    "\n",
    "# Filter the data based on criteria   \n",
    "# Semi-Detached\n",
    "comfortablehomes_semidetached = home2022_cleaned[(home2022_cleaned['propertytype'] == 'S') & \n",
    "                     (home2022_cleaned['numberrooms'] >= 3) & \n",
    "                     (home2022_cleaned['tfarea'] > 102)]\n",
    "\n",
    "\n",
    "# Filter the data based on criteria   \n",
    "# Terraced\n",
    "comfortablehomes_terraced = home2022_cleaned[(home2022_cleaned['propertytype'] == 'T') & \n",
    "                     (home2022_cleaned['numberrooms'] >= 2) & \n",
    "                     (home2022_cleaned['tfarea'] > 79)]\n",
    "\n",
    "\n",
    "# Filter the data based on criteria   \n",
    "# Flat or Maisonettes\n",
    "condition_3 = (home2022_cleaned['propertytype'] == 'F') & (home2022_cleaned['tfarea'] > 50) & (home2022_cleaned['numberrooms'] >= 1)\n",
    "condition_4 = (home2022_cleaned['propertytype'] == 'F') & (home2022_cleaned['tfarea'] > 70) & (home2022_cleaned['numberrooms'] >= 2)\n",
    "\n",
    "# Apply the conditions and concatenate the results\n",
    "comfortablehomes_flat = pd.concat([home2022_cleaned[condition_3], home2022_cleaned[condition_4]])\n",
    "\n",
    "\n",
    "# unified filtered data\n",
    "comfortablehomes_all = pd.concat([comfortablehomes_detached, comfortablehomes_semidetached, comfortablehomes_terraced, comfortablehomes_flat])\n",
    "\n",
    "# print(comfortablehomes_all)\n",
    "\n",
    "# export data\n",
    "# comfortablehomes_all.to_csv('./SH_4_Comfortable Homes_all_housing type.csv', index=False)\n"
   ]
  },
  {
   "cell_type": "code",
   "execution_count": null,
   "id": "b3f6cea6-c544-4e0e-8681-f66fbb15a87b",
   "metadata": {},
   "outputs": [],
   "source": []
  }
 ],
 "metadata": {
  "kernelspec": {
   "display_name": "Python 3 (ipykernel)",
   "language": "python",
   "name": "python3"
  },
  "language_info": {
   "codemirror_mode": {
    "name": "ipython",
    "version": 3
   },
   "file_extension": ".py",
   "mimetype": "text/x-python",
   "name": "python",
   "nbconvert_exporter": "python",
   "pygments_lexer": "ipython3",
   "version": "3.10.5"
  }
 },
 "nbformat": 4,
 "nbformat_minor": 5
}
