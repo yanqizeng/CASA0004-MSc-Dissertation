{
 "cells": [
  {
   "cell_type": "code",
   "execution_count": 1,
   "id": "9a8f4bd9-3e88-439c-b70e-99867cd22105",
   "metadata": {},
   "outputs": [],
   "source": [
    "## Research Question: Does the preference for homes outside of major urban areas persist post COVID-19?"
   ]
  },
  {
   "cell_type": "code",
   "execution_count": 2,
   "id": "59a2dbf6-66da-49c5-a4e4-efbf849b9861",
   "metadata": {},
   "outputs": [],
   "source": [
    "### To explore the preferences for homes outside of the major urban area post COVID-19\n",
    "\n",
    "###  1. Statistics on daily sales of homes sales in each region before, during and post COVID-19\n",
    "###  2. Normalisation according to time (calculation of daily averages)\n",
    "###  3. GIS: spatial exploration of daily housing sales\n",
    "###  4. Daily sales of houses in six broad settlements\n",
    "###  5. Statistical Measure\n",
    "\n",
    "###  Step 3 was carried out in GIS"
   ]
  },
  {
   "cell_type": "code",
   "execution_count": null,
   "id": "50ae3339-6e5a-4212-9b1f-299381884d16",
   "metadata": {},
   "outputs": [],
   "source": []
  },
  {
   "cell_type": "code",
   "execution_count": 3,
   "id": "fbdf27f0-6bb6-4e3a-b1dd-879401991390",
   "metadata": {},
   "outputs": [],
   "source": [
    "###  1. Statistics on daily sales of homes sales in each region before, during and post COVID-19  ###"
   ]
  },
  {
   "cell_type": "code",
   "execution_count": 1,
   "id": "1791731e-7c64-4b36-a391-79373f762f7b",
   "metadata": {},
   "outputs": [],
   "source": [
    "import pandas as pd\n",
    "from datetime import datetime"
   ]
  },
  {
   "cell_type": "code",
   "execution_count": 2,
   "id": "d2e5d0d7-d95f-46de-b8de-f07e3b7bf772",
   "metadata": {},
   "outputs": [],
   "source": [
    "# read in data\n",
    "data = pd.read_csv(\"./House Price per Square Metre/York_link_13082022.csv\")"
   ]
  },
  {
   "cell_type": "code",
   "execution_count": 3,
   "id": "97c263b6-92d9-459a-9e43-159e1714a77f",
   "metadata": {},
   "outputs": [],
   "source": [
    "# Convert the 'dateoftransfer' column to pandas datetime format\n",
    "data['dateoftransfer'] = pd.to_datetime(data['dateoftransfer'])\n"
   ]
  },
  {
   "cell_type": "code",
   "execution_count": 4,
   "id": "505baed5-c976-435a-a6fe-f9a369a37c1b",
   "metadata": {},
   "outputs": [],
   "source": [
    "# Define the date ranges\n",
    "date_ranges = [\n",
    "    ('2019-01-01', '2020-03-23'),\n",
    "    ('2020-03-24', '2021-03-07'),\n",
    "    ('2021-03-08', '2022-12-31')\n",
    "]"
   ]
  },
  {
   "cell_type": "code",
   "execution_count": 5,
   "id": "8edd2df5-83a7-4b53-b407-fa884119b5e3",
   "metadata": {},
   "outputs": [],
   "source": [
    "# Function to filter data based on the date range\n",
    "def filter_by_date_range(start_date, end_date):\n",
    "    return data[(data['dateoftransfer'] >= start_date) & (data['dateoftransfer'] <= end_date)]"
   ]
  },
  {
   "cell_type": "code",
   "execution_count": 6,
   "id": "20b9218d-948e-4f1e-91c9-01a46b135cde",
   "metadata": {},
   "outputs": [
    {
     "name": "stdout",
     "output_type": "stream",
     "text": [
      "Number of transactions from 2019-01-01 to 2020-03-23: 3565\n",
      "Number of transactions from 2020-03-24 to 2021-03-07: 2622\n",
      "Number of transactions from 2021-03-08 to 2022-12-31: 3535\n"
     ]
    }
   ],
   "source": [
    "# Loop through the date ranges and count the number of transactions in each range\n",
    "for start_date, end_date in date_ranges:\n",
    "    filtered_data = filter_by_date_range(start_date, end_date)\n",
    "    num_transactions = len(filtered_data)\n",
    "    print(f\"Number of transactions from {start_date} to {end_date}: {num_transactions}\")"
   ]
  },
  {
   "cell_type": "code",
   "execution_count": null,
   "id": "4b88e8e6-0f2f-44f4-a4ce-353caa2180c1",
   "metadata": {},
   "outputs": [],
   "source": []
  },
  {
   "cell_type": "code",
   "execution_count": 7,
   "id": "630df537-54af-4237-b794-692771af0845",
   "metadata": {},
   "outputs": [],
   "source": [
    "###  2. Normalisation according to time (calculation of daily averages)   ###"
   ]
  },
  {
   "cell_type": "code",
   "execution_count": 8,
   "id": "d9cc5282-c637-4418-a992-c9d410e371f9",
   "metadata": {},
   "outputs": [
    {
     "name": "stdout",
     "output_type": "stream",
     "text": [
      "Jan 1, 2019 to Mar 23, 2020: 5.17\n",
      "Mar 24, 2020 to Mar 7, 2021: 4.70\n",
      "Mar 8, 2021 to Dec 31, 2022: 3.19\n"
     ]
    }
   ],
   "source": [
    "# Data for each time period\n",
    "time_periods = [\"Jan 1, 2019 to Mar 23, 2020\", \"Mar 24, 2020 to Mar 7, 2021\", \"Mar 8, 2021 to Dec 31, 2022\"]\n",
    "data = [2315, 1641, 2121]\n",
    "\n",
    "# Start and end dates for each time period\n",
    "start_dates = [datetime(2019, 1, 1), datetime(2020, 3, 24), datetime(2021, 3, 8)]\n",
    "end_dates = [datetime(2020, 3, 23), datetime(2021, 3, 7), datetime(2022, 12, 31)]\n",
    "\n",
    "# Calculate the number of days in each time period\n",
    "durations = [(end - start).days + 1 for start, end in zip(start_dates, end_dates)]\n",
    "\n",
    "# Calculate average daily data for each period\n",
    "average_daily_data = [d / days for d, days in zip(data, durations)]\n",
    "\n",
    "# Print the results\n",
    "for period, average_data in zip(time_periods, average_daily_data):\n",
    "    print(f\"{period}: {average_data:.2f}\")"
   ]
  },
  {
   "cell_type": "code",
   "execution_count": null,
   "id": "d881733d-7d74-4cab-a33e-9f39961362b1",
   "metadata": {},
   "outputs": [],
   "source": []
  },
  {
   "cell_type": "code",
   "execution_count": 7,
   "id": "d9e3285c-a481-41a3-9121-816040073e1b",
   "metadata": {},
   "outputs": [],
   "source": [
    "###  4. Daily sales of houses in six broad settlements   ###"
   ]
  },
  {
   "cell_type": "code",
   "execution_count": null,
   "id": "94577f4f-008f-4722-bfc1-fb58c8dbd223",
   "metadata": {},
   "outputs": [],
   "source": [
    "###  Based on physical settlement, related characteristics and population size, the classification systematically divides regions in England and Wales into six broad settlement types\n",
    "\n",
    "###  The following classification numbers correspond to each settlement\n",
    "###  1: Urban with Major Conurbation\n",
    "###  2: Urban with Minor Conurbation\n",
    "###  3: Urban with City and Town\n",
    "###  4: Urban with Significant Rural (rural including hub towns)\n",
    "###  5: Largely Rural (rural including hub towns)\n",
    "###  6: Mainly Rural (rural including hub towns)"
   ]
  },
  {
   "cell_type": "code",
   "execution_count": 6,
   "id": "89b7e016-ef7a-4675-9ec5-0187c569ba26",
   "metadata": {},
   "outputs": [
    {
     "name": "stdout",
     "output_type": "stream",
     "text": [
      "Sum of 'Before Quantify' for rows where 'Classify' is 6: 286.888392858\n"
     ]
    },
    {
     "name": "stderr",
     "output_type": "stream",
     "text": [
      "/tmp/ipykernel_104/4254238250.py:3: DtypeWarning: Columns (1,2,9) have mixed types. Specify dtype option on import or set low_memory=False.\n",
      "  data2 = pd.read_csv(\"./MC_3_housing_standardized_classify.csv\")\n"
     ]
    }
   ],
   "source": [
    "data2 = pd.read_csv(\"./MC_3_housing_standardized_classify.csv\")\n",
    "\n",
    "# Filter rows where the value in the 'Classification Number' column is 6\n",
    "filtered_data = data2[data2['Classification Number'] == 6]\n",
    "\n",
    "# Calculate the sum of 'Before Quantify' column for the filtered rows\n",
    "sum_before_quantify = filtered_data['Before Quantify'].sum()\n",
    "\n",
    "print(\"Sum of 'Before Quantify' for rows where 'Classify' is 6:\", sum_before_quantify)"
   ]
  },
  {
   "cell_type": "code",
   "execution_count": 35,
   "id": "2357345d-f1e2-4d77-a051-09c39e3918b7",
   "metadata": {},
   "outputs": [
    {
     "data": {
      "image/png": "[encoded data removed]",
      "text/plain": [
       "<Figure size 720x576 with 1 Axes>"
      ]
     },
     "metadata": {
      "needs_background": "light"
     },
     "output_type": "display_data"
    }
   ],
   "source": [
    "# Visualisation of daily housing sales in six settlements\n",
    "\n",
    "import matplotlib.pyplot as plt\n",
    "\n",
    "categories = [\"Mainly Rural\", \"Largely Rural\", \"Urban with Significant Rural\", \n",
    "              \"Urban with City and Town\", \"Urban with Minor Conurbation\", \"Urban with Major Conurbation\"]\n",
    "\n",
    "before_covid = [286.889, 210.904, 201.131, 403.720, 64.669, 532.830]\n",
    "during_covid = [288.017, 212.471, 203.609, 381.201, 57.913, 501.551]\n",
    "post_covid = [186.918, 138.651, 135.348, 266.533, 38.598, 351.192]\n",
    "\n",
    "plt.figure(figsize=(10, 8))\n",
    "plt.scatter(categories, before_covid, color='#F94C10', label='Before COVID-19', s=200)\n",
    "plt.scatter(categories, during_covid, color='#FFD93D', label='During COVID-19', s=200)\n",
    "plt.scatter(categories, post_covid, color='#793FDF', label='Post COVID-19', s=200)\n",
    "\n",
    "plt.ylabel('Value')\n",
    "plt.xlabel('Category')\n",
    "plt.title('Scatter Chart of Values Before, During, and Post COVID-19')\n",
    "plt.xticks(rotation=45)\n",
    "\n",
    "# Increase spacing between Y-axis values\n",
    "plt.gca().yaxis.grid(True, linestyle='--', alpha=0.7)\n",
    "plt.gca().yaxis.set_major_locator(plt.MultipleLocator(base=100))  # Adjust the base value as needed\n",
    "\n",
    "\n",
    "plt.legend()\n",
    "plt.grid(True)\n",
    "plt.show()\n"
   ]
  },
  {
   "cell_type": "code",
   "execution_count": null,
   "id": "de88e0be-021e-4334-bbdf-7bc032e7f51c",
   "metadata": {},
   "outputs": [],
   "source": []
  },
  {
   "cell_type": "code",
   "execution_count": null,
   "id": "98cfed61-8b67-4e31-9bf8-51a8af9f55a0",
   "metadata": {},
   "outputs": [],
   "source": []
  }
 ],
 "metadata": {
  "kernelspec": {
   "display_name": "Python 3 (ipykernel)",
   "language": "python",
   "name": "python3"
  },
  "language_info": {
   "codemirror_mode": {
    "name": "ipython",
    "version": 3
   },
   "file_extension": ".py",
   "mimetype": "text/x-python",
   "name": "python",
   "nbconvert_exporter": "python",
   "pygments_lexer": "ipython3",
   "version": "3.10.5"
  }
 },
 "nbformat": 4,
 "nbformat_minor": 5
}
